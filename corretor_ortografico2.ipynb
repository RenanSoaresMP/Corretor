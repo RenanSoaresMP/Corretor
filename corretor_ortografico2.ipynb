{
  "nbformat": 4,
  "nbformat_minor": 0,
  "metadata": {
    "colab": {
      "name": "corretor_ortografico2.ipynb",
      "provenance": [],
      "authorship_tag": "ABX9TyOVvJFx721TAPt+eAUarWCr",
      "include_colab_link": true
    },
    "kernelspec": {
      "name": "python3",
      "display_name": "Python 3"
    },
    "language_info": {
      "name": "python"
    }
  },
  "cells": [
    {
      "cell_type": "markdown",
      "metadata": {
        "id": "view-in-github",
        "colab_type": "text"
      },
      "source": [
        "<a href=\"https://colab.research.google.com/github/RenanSoaresMP/Corretor/blob/Probabilidade/corretor_ortografico2.ipynb\" target=\"_parent\"><img src=\"https://colab.research.google.com/assets/colab-badge.svg\" alt=\"Open In Colab\"/></a>"
      ]
    },
    {
      "cell_type": "markdown",
      "source": [
        "#Criando lista com palavras corretas como referência"
      ],
      "metadata": {
        "id": "PL4JX6bE7-Kh"
      }
    },
    {
      "cell_type": "code",
      "execution_count": 3,
      "metadata": {
        "id": "PdtvpeyC1jYr"
      },
      "outputs": [],
      "source": [
        "with open(\"artigos.txt\", \"r\") as f:\n",
        "    artigos = f.read()\n",
        "\n"
      ]
    },
    {
      "cell_type": "code",
      "source": [
        "#Tokenização\n",
        "texto_exemplo = 'Olá, tudo bem?'\n",
        "import nltk \n",
        "nltk.download('punkt')\n",
        "palavras_separadas = nltk.tokenize.word_tokenize(texto_exemplo)"
      ],
      "metadata": {
        "colab": {
          "base_uri": "https://localhost:8080/"
        },
        "id": "tAWZkDtO1zim",
        "outputId": "b111224b-425e-4c27-f9b6-6157770550b4"
      },
      "execution_count": 4,
      "outputs": [
        {
          "output_type": "stream",
          "name": "stdout",
          "text": [
            "[nltk_data] Downloading package punkt to /root/nltk_data...\n",
            "[nltk_data]   Unzipping tokenizers/punkt.zip.\n"
          ]
        }
      ]
    },
    {
      "cell_type": "code",
      "source": [
        "print(palavras_separadas)"
      ],
      "metadata": {
        "colab": {
          "base_uri": "https://localhost:8080/"
        },
        "id": "1Valkb0R2-ud",
        "outputId": "fd2d7a13-52d7-44f7-c58e-6a00de845b84"
      },
      "execution_count": 5,
      "outputs": [
        {
          "output_type": "stream",
          "name": "stdout",
          "text": [
            "['Olá', ',', 'tudo', 'bem', '?']\n"
          ]
        }
      ]
    },
    {
      "cell_type": "code",
      "source": [
        "#Retornando apenas as palavras\n",
        "def separa_palavras(lista_tokens):\n",
        "    lista_palavras = []\n",
        "    for token in lista_tokens:\n",
        "        if token.isalpha():\n",
        "            lista_palavras.append(token)\n",
        "    return lista_palavras\n",
        "\n",
        "separa_palavras(palavras_separadas)"
      ],
      "metadata": {
        "colab": {
          "base_uri": "https://localhost:8080/"
        },
        "id": "9eobTkqI3EiY",
        "outputId": "efc5831f-18a8-41e9-b9e3-2cb15aac6062"
      },
      "execution_count": 6,
      "outputs": [
        {
          "output_type": "execute_result",
          "data": {
            "text/plain": [
              "['Olá', 'tudo', 'bem']"
            ]
          },
          "metadata": {},
          "execution_count": 6
        }
      ]
    },
    {
      "cell_type": "code",
      "source": [
        "lista_tokens = nltk.tokenize.word_tokenize(artigos)    #Tokenização do arquico artigos.txt\n",
        "lista_palavras = separa_palavras(lista_tokens)         #Retirando os sinais de pontuação \n",
        "print(f\"O número de palavras é {len(lista_palavras)}\")"
      ],
      "metadata": {
        "colab": {
          "base_uri": "https://localhost:8080/"
        },
        "id": "biYHsz7y4AC6",
        "outputId": "4420eade-dd0c-442b-be00-92676452925b"
      },
      "execution_count": 7,
      "outputs": [
        {
          "output_type": "stream",
          "name": "stdout",
          "text": [
            "O número de palavras é 393914\n"
          ]
        }
      ]
    },
    {
      "cell_type": "code",
      "source": [
        "#Normalização da lista_palavras\n",
        "def normalizacao(lista_palavras):\n",
        "    lista_normalizada = []\n",
        "    for palavra in lista_palavras:\n",
        "        lista_normalizada.append(palavra.lower())\n",
        "    return lista_normalizada\n",
        "\n",
        "lista_normalizada = normalizacao(lista_palavras)\n",
        "print(lista_normalizada[:5])"
      ],
      "metadata": {
        "colab": {
          "base_uri": "https://localhost:8080/"
        },
        "id": "j_eEFY0754F1",
        "outputId": "f45e0ae6-ba8f-4e8f-ee37-119281413a4f"
      },
      "execution_count": 8,
      "outputs": [
        {
          "output_type": "stream",
          "name": "stdout",
          "text": [
            "['imagem', 'temos', 'a', 'seguinte', 'classe']\n"
          ]
        }
      ]
    },
    {
      "cell_type": "code",
      "source": [
        "#Removendo palavras iguais\n",
        "len(set(lista_normalizada))"
      ],
      "metadata": {
        "colab": {
          "base_uri": "https://localhost:8080/"
        },
        "id": "v0IyO8fD6WXl",
        "outputId": "97fccbc6-bf63-45c2-e4c4-0e5e4e3ed876"
      },
      "execution_count": 9,
      "outputs": [
        {
          "output_type": "execute_result",
          "data": {
            "text/plain": [
              "17652"
            ]
          },
          "metadata": {},
          "execution_count": 9
        }
      ]
    },
    {
      "cell_type": "markdown",
      "source": [
        ""
      ],
      "metadata": {
        "id": "4dJZt5Zi78T8"
      }
    },
    {
      "cell_type": "code",
      "source": [
        "palavra_exemplo = \"lgica\"\n",
        "\n",
        "def insere_letras(fatias):\n",
        "    novas_palavras = []\n",
        "    letras = 'abcdefghijklmnopqrstuvwxyzàáâãèéêìíîòóôõùúûç'\n",
        "    for E, D in fatias:\n",
        "        for letra in letras:\n",
        "            novas_palavras.append(E + letra + D)\n",
        "        return novas_palavras\n",
        "\n",
        "def gerador_palavras(palavra):\n",
        "    fatias = []\n",
        "    for i in range(len(palavra)+1):\n",
        "        fatias.append((palavra[:i],palavra[i:]))   #gera as palavras fatiadas\n",
        "\n",
        "    palavras_geradas = insere_letras(fatias)       #teste na função insere_letras\n",
        "    return palavras_geradas\n",
        "\n",
        "palavras_geradas = gerador_palavras(palavra_exemplo)\n",
        "print(palavras_geradas)\n",
        "\n",
        "def corretor(palavra):\n",
        "    palavras_geradas = gerador_palavras(palavra)\n",
        "    palavra_correta = max(palavras_geradas, key=probabilidade)\n",
        "    return palavra_correta\n",
        "\n",
        "frequencia = nltk.FreqDist(lista_normalizada)\n",
        "total_palavras = len(lista_normalizada)\n",
        "frequencia.most_common(10)\n",
        "\n",
        "def probabilidade(palavra_gerada):\n",
        "    return frequencia[palavra_gerada]/total_palavras"
      ],
      "metadata": {
        "colab": {
          "base_uri": "https://localhost:8080/"
        },
        "id": "Yrs_-HJ5IQYs",
        "outputId": "348bcfec-13fa-42e4-bba7-bdf8477e58d3"
      },
      "execution_count": 13,
      "outputs": [
        {
          "output_type": "stream",
          "name": "stdout",
          "text": [
            "['algica', 'blgica', 'clgica', 'dlgica', 'elgica', 'flgica', 'glgica', 'hlgica', 'ilgica', 'jlgica', 'klgica', 'llgica', 'mlgica', 'nlgica', 'olgica', 'plgica', 'qlgica', 'rlgica', 'slgica', 'tlgica', 'ulgica', 'vlgica', 'wlgica', 'xlgica', 'ylgica', 'zlgica', 'àlgica', 'álgica', 'âlgica', 'ãlgica', 'èlgica', 'élgica', 'êlgica', 'ìlgica', 'ílgica', 'îlgica', 'òlgica', 'ólgica', 'ôlgica', 'õlgica', 'ùlgica', 'úlgica', 'ûlgica', 'çlgica']\n"
          ]
        }
      ]
    },
    {
      "cell_type": "code",
      "source": [
        ""
      ],
      "metadata": {
        "colab": {
          "base_uri": "https://localhost:8080/"
        },
        "id": "-CBqlS49EzMF",
        "outputId": "7dd2bfcc-d795-4868-bdc2-ecf21200896c"
      },
      "execution_count": 15,
      "outputs": [
        {
          "output_type": "execute_result",
          "data": {
            "text/plain": [
              "0.00022086039084673304"
            ]
          },
          "metadata": {},
          "execution_count": 15
        }
      ]
    },
    {
      "cell_type": "code",
      "source": [
        ""
      ],
      "metadata": {
        "id": "g7UTtGrCTedW"
      },
      "execution_count": null,
      "outputs": []
    }
  ]
}